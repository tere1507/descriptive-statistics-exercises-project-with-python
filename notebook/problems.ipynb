{
    "cells": [
        {
            "cell_type": "markdown",
            "id": "ac622319",
            "metadata": {},
            "source": [
                "# Descriptive statistics problems"
            ]
        },
        {
            "cell_type": "markdown",
            "id": "5e0ab0d5",
            "metadata": {},
            "source": [
                "### Exercise 1\n",
                "\n",
                "We will use NumPy to obtain information to describe statistically.\n",
                "\n",
                "- Generate an array of 100 elements following a normal distribution.\n",
                "- Generate an array of 100 elements following a chi-square distribution with 3 degrees of freedom.\n",
                "- Calculate the main metrics and statistical measures that best describe the two vectors."
            ]
        },
        {
            "cell_type": "code",
            "execution_count": 2,
            "id": "34720ab6",
            "metadata": {},
            "outputs": [
                {
                    "name": "stdout",
                    "output_type": "stream",
                    "text": [
                        "normal[-0.29950364  0.72936897 -1.41053865 -1.94303119 -0.71262471  0.08978233\n",
                        "  1.93755506  2.62414454  0.20172743  1.01924715  0.16140202 -0.95906431\n",
                        "  0.73786451 -0.37385824 -1.60004854 -1.26905494  0.02444667  0.35063228\n",
                        " -2.49015796  0.03816629 -0.74154214  2.04521296 -0.94157147 -0.22766633\n",
                        "  1.51206489 -0.54057103  2.06691381 -0.4221011  -1.69658034  0.25753048\n",
                        " -0.31183756 -1.14970243  0.3572104   0.42064283  1.06114321  0.07643216\n",
                        " -0.04567282  2.07379413  1.14718785 -0.13917691  1.28601181 -1.40441041\n",
                        "  1.5948588  -1.44905577 -1.11208624  1.02786842  0.42412651  1.14661645\n",
                        " -0.09681104  0.61313425  1.18525732  0.83369091 -0.93053594 -0.7850028\n",
                        "  1.28613845  2.03663976 -1.25840332  0.13798127  0.77692343 -0.69152544\n",
                        "  0.3454749   0.3606842  -0.22096135  0.62234413  0.06754727 -1.36311948\n",
                        " -0.32236388 -1.52302469 -0.33772518  1.08063402 -1.62399731 -1.26920533\n",
                        " -0.76789286 -0.88528206  0.66324289 -1.59065229  0.50063333 -1.02480143\n",
                        "  1.22586122 -0.77312295  0.39644278 -0.13852536 -1.5699304  -1.24305901\n",
                        "  0.20164432 -0.23948243  0.71834408 -1.1665204  -0.06690165 -0.21012643\n",
                        "  1.15362529  0.03911842 -0.43895976  0.15825584  1.46634263  1.80803715\n",
                        " -0.11994458  0.12730353 -1.29378379 -0.63104904]\n",
                        "chisquare[ 3.96632839  1.6679181   3.94338818  0.23160184  0.38244912  2.20488222\n",
                        "  1.96844475  3.67256072  3.3150965   3.47123852  2.03804849  0.83617433\n",
                        "  4.30653906 11.33874077  0.15749872  4.47587683  2.53151172  1.51345428\n",
                        "  1.2434333   0.27815341  8.21119215  1.56346531  2.98963253  5.30033934\n",
                        "  1.77572757  0.66209521  1.3031044  11.81713453  2.26382759  1.3035674\n",
                        "  2.48935376  4.31514272  2.60870552  6.44909099  3.97391205  2.31642257\n",
                        "  6.38394004  4.78875193  1.31003696  1.52612648  4.12455435  2.81308757\n",
                        "  2.67278499  4.73564232  1.23748878  1.93820126  2.90771515  2.53420375\n",
                        "  0.4366582   2.11524468  4.78105155  1.96442323  2.79567454  1.31750645\n",
                        "  2.80740999  2.05401138  1.54099972  2.02251987  1.57173562  5.02343072\n",
                        "  1.03914675  0.27135502  1.24644903  7.43742126  4.27555337  4.79375768\n",
                        "  2.62196649  3.50448495  7.09753465  9.56818694  1.27200958  0.17293781\n",
                        "  0.07125767  7.8804097   0.91207022  2.65214643  4.79723036  0.61797942\n",
                        "  2.28751842  1.49041068  4.06646261  6.19479999  0.9101111   9.31056491\n",
                        "  3.53313857  3.28162417  1.08314171  3.44977809  7.51959198  2.456345\n",
                        "  3.17134709  1.18621003  3.94397258  0.65661566  3.15125647  2.33412972\n",
                        "  7.479183    4.09261325  2.55168304  4.16742328]\n"
                    ]
                }
            ],
            "source": [
                "import numpy as np \n",
                "import pandas as pd \n",
                "normal = np.random.normal(size = 100)\n",
                "chisquare = np.random.chisquare(3, size = 100)\n",
                "print(f\"normal{normal}\")\n",
                "print(f\"chisquare{chisquare}\")\n",
                "\n",
                "\n"
            ]
        },
        {
            "cell_type": "code",
            "execution_count": 3,
            "id": "d31980bc",
            "metadata": {},
            "outputs": [
                {
                    "name": "stdout",
                    "output_type": "stream",
                    "text": [
                        "normal mean -0.016053135428628858\n",
                        "chisquare 3.168390710971761\n"
                    ]
                }
            ],
            "source": [
                "#mean(media)\n",
                "import statistics as stats\n",
                "mean_normal = stats.mean(normal)\n",
                "mean_chisquare = stats.mean(chisquare)\n",
                "print(f\"normal mean {mean_normal}\")\n",
                "print(f\"chisquare {mean_chisquare}\")"
            ]
        },
        {
            "cell_type": "code",
            "execution_count": 4,
            "id": "d77f39e8",
            "metadata": {},
            "outputs": [
                {
                    "name": "stdout",
                    "output_type": "stream",
                    "text": [
                        "mediana normal -0.01061307161955022\n",
                        "mediana chisquare 2.580194279141088\n"
                    ]
                }
            ],
            "source": [
                "#median(mediana)\n",
                "median_normal = stats.median(normal)\n",
                "median_chisquare = stats.median(chisquare)\n",
                "print(f\"mediana normal {median_normal}\")\n",
                "print(f\"mediana chisquare {median_chisquare}\")"
            ]
        },
        {
            "cell_type": "code",
            "execution_count": 5,
            "id": "71c8787a",
            "metadata": {},
            "outputs": [
                {
                    "name": "stdout",
                    "output_type": "stream",
                    "text": [
                        "moda normal -0.29950364349497927\n",
                        "moda chisquare 3.966328392994211\n"
                    ]
                }
            ],
            "source": [
                "#mode(moda)\n",
                "mode_normal = stats.mode(normal)\n",
                "mode_chisquare = stats.mode(chisquare)\n",
                "print(f\"moda normal {mode_normal}\")\n",
                "print(f\"moda chisquare {mode_chisquare}\")"
            ]
        },
        {
            "cell_type": "code",
            "execution_count": 6,
            "id": "9e5712fb",
            "metadata": {},
            "outputs": [
                {
                    "name": "stdout",
                    "output_type": "stream",
                    "text": [
                        "normal5.114302508428798\n",
                        "chisquare2.552886875351874\n"
                    ]
                }
            ],
            "source": [
                "#Measures of dispersion(medidas de dispeecion)\n",
                "#range\n",
                "range_normal = max(normal)- min(normal)\n",
                "range_chisquare = max(normal)- min(chisquare)\n",
                "print(f\"normal{range_normal}\")\n",
                "print(f\"chisquare{range_chisquare}\")\n"
            ]
        },
        {
            "cell_type": "code",
            "execution_count": 7,
            "id": "19e488a1",
            "metadata": {},
            "outputs": [
                {
                    "name": "stdout",
                    "output_type": "stream",
                    "text": [
                        "Normal Varianza 1.1404136242436138 and 1.0679015049355505\n",
                        "Chi Varianza 5.900913821599391 and 2.429179660214409\n"
                    ]
                }
            ],
            "source": [
                "#Variance and standard deviation(Varianza y desviación típica-Ambas métricas miden lo mismo. Indican cómo de lejos están, en promedio, los valores con respecto a la mediav)\n",
                "var_normal = stats.variance(normal)\n",
                "var_chisquare = stats.variance(chisquare)\n",
                "std_normal = stats.stdev(normal)\n",
                "std_chisqure = stats.stdev(chisquare)\n",
                "print(f\"Normal Varianza {var_normal} and {std_normal}\")\n",
                "print(f\"Chi Varianza {var_chisquare} and {std_chisqure}\")\n",
                "\n"
            ]
        },
        {
            "cell_type": "code",
            "execution_count": 8,
            "id": "ad76315c",
            "metadata": {},
            "outputs": [
                {
                    "name": "stdout",
                    "output_type": "stream",
                    "text": [
                        "normal0.1808617266132615\n",
                        "chisquare1.3828625731860515\n"
                    ]
                }
            ],
            "source": [
                "#### Shape measures(medidas de forma / inclinacio(skew))\n",
                "\n",
                "##### Skewness(asimetria)\n",
                "from scipy.stats import skew\n",
                "skew_normal = skew(normal)\n",
                "skew_chisquare = skew(chisquare)\n",
                "print(f\"normal{skew_normal}\")\n",
                "print(f\"chisquare{skew_chisquare}\")\n",
                "\n"
            ]
        },
        {
            "cell_type": "code",
            "execution_count": 12,
            "id": "b69dc397",
            "metadata": {},
            "outputs": [
                {
                    "name": "stdout",
                    "output_type": "stream",
                    "text": [
                        "normal-0.5225754816078467\n",
                        "chisquare1.9711917748128638\n"
                    ]
                }
            ],
            "source": [
                "#CURTOSIS (Kurtosis-Mide la concentración de los datos en torno a la media)\n",
                "from scipy.stats import kurtosis\n",
                "kurt_normal = kurtosis(normal)\n",
                "kurt_chisquare = kurtosis(chisquare)\n",
                "print(f\"normal{kurt_normal}\")\n",
                "print(f\"chisquare{kurt_chisquare}\")\n"
            ]
        },
        {
            "cell_type": "markdown",
            "id": "46c70c3d",
            "metadata": {},
            "source": [
                "### Exercise 2\n",
                "\n",
                "Write a Python program to calculate the standard deviation of the following data:\n",
                "\n",
                "```py\n",
                "data = [4, 2, 5, 8, 6]\n",
                "```"
            ]
        },
        {
            "cell_type": "code",
            "execution_count": 10,
            "id": "ab065ae6",
            "metadata": {},
            "outputs": [
                {
                    "name": "stdout",
                    "output_type": "stream",
                    "text": [
                        "2.0\n"
                    ]
                }
            ],
            "source": [
                "import numpy as np \n",
                "data = [4, 2, 5, 8, 6]\n",
                "standard_deviation = np.std(data)\n",
                "print(standard_deviation)\n"
            ]
        }
    ],
    "metadata": {
        "interpreter": {
            "hash": "9248718ffe6ce6938b217e69dbcc175ea21f4c6b28a317e96c05334edae734bb"
        },
        "kernelspec": {
            "display_name": "Python 3.9.12 ('ML-BOOTCAMP')",
            "language": "python",
            "name": "python3"
        },
        "language_info": {
            "codemirror_mode": {
                "name": "ipython",
                "version": 3
            },
            "file_extension": ".py",
            "mimetype": "text/x-python",
            "name": "python",
            "nbconvert_exporter": "python",
            "pygments_lexer": "ipython3",
            "version": "3.12.4"
        }
    },
    "nbformat": 4,
    "nbformat_minor": 5
}
