{
    "cells": [
        {
            "cell_type": "markdown",
            "id": "ac622319",
            "metadata": {},
            "source": [
                "# Descriptive statistics problems"
            ]
        },
        {
            "cell_type": "markdown",
            "id": "5e0ab0d5",
            "metadata": {},
            "source": [
                "### Exercise 1\n",
                "\n",
                "We will use NumPy to obtain information to describe statistically.\n",
                "\n",
                "- Generate an array of 100 elements following a normal distribution.\n",
                "- Generate an array of 100 elements following a chi-square distribution with 3 degrees of freedom.\n",
                "- Calculate the main metrics and statistical measures that best describe the two vectors."
            ]
        },
        {
            "cell_type": "code",
            "execution_count": 2,
            "id": "34720ab6",
            "metadata": {},
            "outputs": [
                {
                    "name": "stdout",
                    "output_type": "stream",
                    "text": [
                        "normal[ 0.63072533 -0.54854769  0.75461409  2.46389989  0.79365674 -0.46934965\n",
                        "  1.31299057  0.60622192 -2.07643983 -1.30623924  0.26034991  0.61012498\n",
                        " -0.04238373  0.61823891 -0.65593655  0.75527907  0.26528378 -0.57983561\n",
                        " -1.45800164  0.55875757 -0.04244337 -1.26803152  0.81532313  0.92790315\n",
                        " -0.27029439 -1.51263038 -0.40363456 -1.1478644  -1.60129879 -0.15324046\n",
                        " -0.37752458 -0.93342846  0.74987385  0.14104763 -0.53697483 -0.37436368\n",
                        " -0.1248674  -0.31514148  0.27048118  1.45436005  0.07898298 -1.21211321\n",
                        "  0.93742923 -0.59260212  1.35888857 -0.68383652  0.9883861   0.48504466\n",
                        " -0.82466392 -0.18036302  0.48152255  0.78597671  1.23160402 -0.61358311\n",
                        "  0.49779487 -1.96569446 -0.56548682  0.38650768 -1.26120942 -0.91183506\n",
                        "  0.71237869 -0.04094946  0.58170583 -0.83602434 -0.74208171 -0.08174467\n",
                        " -0.37870981 -2.05939138  0.05193491 -1.440784    0.87660614  0.63001065\n",
                        " -0.56022944 -0.60600158  0.58914773  1.06347562  0.47545464 -2.71888582\n",
                        "  1.82652365  0.06878435 -2.41057424  0.17303392  0.70794902  0.83117481\n",
                        " -0.14523279  1.11532042  0.50660257  1.15047141  2.28222553  0.53125091\n",
                        "  1.30939992  0.58019374 -0.51099563 -1.00179994 -0.00397957  1.07061285\n",
                        "  0.38027466 -0.4940011   0.31371103 -1.73546175]\n",
                        "chisquare[ 1.77615532  0.55660312  0.12585629  0.85766812  0.48224236  0.46066079\n",
                        "  2.43502041  2.67274068  1.33703373  1.25048803  4.0258661   0.44555852\n",
                        "  2.27125348  1.46296395  0.88647977  2.18572961  2.22987649  1.05691035\n",
                        "  3.46973887  3.19346335  2.25785068  1.06745017  5.93510672  2.629854\n",
                        "  4.98198062  0.38930537  1.30894392  9.42828019  1.42186907  5.25678102\n",
                        "  4.45621536  1.17527673  6.94637979  0.60525303  1.73616188  3.5287533\n",
                        "  1.87837008  5.59291851  2.01574275  0.9371706   1.8274387   2.25527707\n",
                        "  4.6325842   2.88216594  0.33327622  5.15201284  3.07877918  1.86604017\n",
                        "  3.22917582  2.89998176  0.74392294  1.45711262  1.32481283  0.69044438\n",
                        "  1.86742002  3.98465412  0.9212686   0.30664087  1.80654196  3.52310844\n",
                        "  4.58607834  1.0658493   0.84367576  1.14180622  2.82501348  0.20287387\n",
                        "  1.15417848  2.9122385   2.33739527  3.83619685  2.59625385 11.12554197\n",
                        "  4.4022467   2.14879469 12.25977909  7.19776748  1.50676891  4.86950955\n",
                        "  5.56570804  0.82616529  3.5817623   5.47230801  0.10591334  1.58799185\n",
                        "  5.6834519   6.12288594  0.04381253  0.79920181  1.15941181  2.24527463\n",
                        "  1.7900926   3.28773986  2.29271195  1.61860044  5.44313135  3.00177506\n",
                        "  2.95746643  1.4784849   2.30500438  0.25873429]\n"
                    ]
                }
            ],
            "source": [
                "import numpy as np \n",
                "import pandas as pd \n",
                "normal = np.random.normal(size = 100)\n",
                "chisquare = np.random.chisquare(3, size = 100)\n",
                "print(f\"normal{normal}\")\n",
                "print(f\"chisquare{chisquare}\")\n",
                "\n",
                "\n"
            ]
        },
        {
            "cell_type": "code",
            "execution_count": 3,
            "id": "d31980bc",
            "metadata": {},
            "outputs": [
                {
                    "name": "stdout",
                    "output_type": "stream",
                    "text": [
                        "normal mean -0.017271950530444623\n",
                        "chisquare 2.661542288261211\n"
                    ]
                }
            ],
            "source": [
                "#mean(media)\n",
                "import statistics as stats\n",
                "mean_normal = stats.mean(normal)\n",
                "mean_chisquare = stats.mean(chisquare)\n",
                "print(f\"normal mean {mean_normal}\")\n",
                "print(f\"chisquare {mean_chisquare}\")"
            ]
        },
        {
            "cell_type": "code",
            "execution_count": 4,
            "id": "d77f39e8",
            "metadata": {},
            "outputs": [
                {
                    "name": "stdout",
                    "output_type": "stream",
                    "text": [
                        "mediana normal 0.060359627866993074\n",
                        "mediana chisquare 2.167262151816205\n"
                    ]
                }
            ],
            "source": [
                "#median(mediana)\n",
                "median_normal = stats.median(normal)\n",
                "median_chisquare = stats.median(chisquare)\n",
                "print(f\"mediana normal {median_normal}\")\n",
                "print(f\"mediana chisquare {median_chisquare}\")"
            ]
        },
        {
            "cell_type": "code",
            "execution_count": 5,
            "id": "71c8787a",
            "metadata": {},
            "outputs": [
                {
                    "name": "stdout",
                    "output_type": "stream",
                    "text": [
                        "moda normal 0.6307253269170255\n",
                        "moda chisquare 1.7761553222536268\n"
                    ]
                }
            ],
            "source": [
                "#mode(moda)\n",
                "mode_normal = stats.mode(normal)\n",
                "mode_chisquare = stats.mode(chisquare)\n",
                "print(f\"moda normal {mode_normal}\")\n",
                "print(f\"moda chisquare {mode_chisquare}\")"
            ]
        },
        {
            "cell_type": "code",
            "execution_count": 6,
            "id": "9e5712fb",
            "metadata": {},
            "outputs": [
                {
                    "name": "stdout",
                    "output_type": "stream",
                    "text": [
                        "normal5.182785709145531\n",
                        "chisquare2.420087358421285\n"
                    ]
                }
            ],
            "source": [
                "#Measures of dispersion(medidas de dispeecion)\n",
                "#range\n",
                "range_normal = max(normal)- min(normal)\n",
                "range_chisquare = max(normal)- min(chisquare)\n",
                "print(f\"normal{range_normal}\")\n",
                "print(f\"chisquare{range_chisquare}\")\n"
            ]
        },
        {
            "cell_type": "code",
            "execution_count": 7,
            "id": "19e488a1",
            "metadata": {},
            "outputs": [
                {
                    "name": "stdout",
                    "output_type": "stream",
                    "text": [
                        "Normal Varianza 0.9868828470464635 and 0.9934197738350408\n",
                        "Chi Varianza 5.070266065877991 and 2.251725131066843\n"
                    ]
                }
            ],
            "source": [
                "#Variance and standard deviation(Varianza y desviación típica)\n",
                "var_normal = stats.variance(normal)\n",
                "var_chisquare = stats.variance(chisquare)\n",
                "std_normal = stats.stdev(normal)\n",
                "std_chisqure = stats.stdev(chisquare)\n",
                "print(f\"Normal Varianza {var_normal} and {std_normal}\")\n",
                "print(f\"Chi Varianza {var_chisquare} and {std_chisqure}\")\n",
                "\n"
            ]
        },
        {
            "cell_type": "code",
            "execution_count": 10,
            "id": "ad76315c",
            "metadata": {},
            "outputs": [
                {
                    "name": "stdout",
                    "output_type": "stream",
                    "text": [
                        "normal-0.3022229108488698\n",
                        "chisquare1.766877950180894\n"
                    ]
                }
            ],
            "source": [
                "#### Shape measures(medidas de forma )\n",
                "\n",
                "##### Skewness(asimetria)\n",
                "from scipy.stats import skew\n",
                "skew_normal = skew(normal)\n",
                "skew_chisquare = skew(chisquare)\n",
                "print(f\"normal{skew_normal}\")\n",
                "print(f\"chisquare{skew_chisquare}\")\n",
                "\n"
            ]
        },
        {
            "cell_type": "markdown",
            "id": "46c70c3d",
            "metadata": {},
            "source": [
                "### Exercise 2\n",
                "\n",
                "Write a Python program to calculate the standard deviation of the following data:\n",
                "\n",
                "```py\n",
                "data = [4, 2, 5, 8, 6]\n",
                "```"
            ]
        },
        {
            "cell_type": "code",
            "execution_count": 9,
            "id": "ab065ae6",
            "metadata": {},
            "outputs": [
                {
                    "name": "stdout",
                    "output_type": "stream",
                    "text": [
                        "2.0\n"
                    ]
                }
            ],
            "source": [
                "import numpy as np \n",
                "data = [4, 2, 5, 8, 6]\n",
                "standard_deviation = np.std(data)\n",
                "print(standard_deviation)\n"
            ]
        }
    ],
    "metadata": {
        "interpreter": {
            "hash": "9248718ffe6ce6938b217e69dbcc175ea21f4c6b28a317e96c05334edae734bb"
        },
        "kernelspec": {
            "display_name": "Python 3.9.12 ('ML-BOOTCAMP')",
            "language": "python",
            "name": "python3"
        },
        "language_info": {
            "codemirror_mode": {
                "name": "ipython",
                "version": 3
            },
            "file_extension": ".py",
            "mimetype": "text/x-python",
            "name": "python",
            "nbconvert_exporter": "python",
            "pygments_lexer": "ipython3",
            "version": "3.12.4"
        }
    },
    "nbformat": 4,
    "nbformat_minor": 5
}
