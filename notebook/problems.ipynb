{
    "cells": [
        {
            "cell_type": "markdown",
            "id": "ac622319",
            "metadata": {},
            "source": [
                "# Descriptive statistics problems"
            ]
        },
        {
            "cell_type": "markdown",
            "id": "5e0ab0d5",
            "metadata": {},
            "source": [
                "### Exercise 1\n",
                "\n",
                "We will use NumPy to obtain information to describe statistically.\n",
                "\n",
                "- Generate an array of 100 elements following a normal distribution.\n",
                "- Generate an array of 100 elements following a chi-square distribution with 3 degrees of freedom.\n",
                "- Calculate the main metrics and statistical measures that best describe the two vectors."
            ]
        },
        {
            "cell_type": "code",
            "execution_count": 5,
            "id": "34720ab6",
            "metadata": {},
            "outputs": [
                {
                    "name": "stdout",
                    "output_type": "stream",
                    "text": [
                        "normal[ 1.20983283e-02 -4.09091997e-01  3.22639455e-01 -1.10127317e-01\n",
                        "  5.01172506e-01  1.32477651e-01 -1.67624860e-01  2.00109628e-01\n",
                        "  5.76498380e-02 -6.66183047e-01  3.11088769e-01 -2.56000886e+00\n",
                        " -5.65683079e-01  7.02818482e-01  2.02643570e+00  6.11341148e-01\n",
                        " -2.59017177e-03  1.25603456e+00 -5.39565509e-01 -1.18273198e+00\n",
                        " -2.44778888e-01  1.33224328e+00  4.75534262e-01 -1.40293773e+00\n",
                        "  5.43343417e-01  1.90748523e+00  1.80494527e-01  6.31575935e-03\n",
                        " -4.14131033e-01  2.19994250e+00  1.49292061e+00 -1.77576635e+00\n",
                        " -9.61409132e-01 -3.94515148e-01  2.26390405e+00 -1.00577200e+00\n",
                        " -2.38353802e-01 -1.08588740e-01  7.15365113e-01 -3.19488047e-01\n",
                        " -3.13457337e-01 -6.92151046e-01 -6.66222012e-01 -4.60202363e-01\n",
                        " -3.82882680e-01  5.60993385e-01 -1.01918642e+00 -9.73507642e-01\n",
                        " -1.77047097e+00 -1.35202482e+00 -1.98147229e+00 -5.02607830e-01\n",
                        "  1.43808141e+00 -8.98290656e-01 -4.77236764e-01 -1.35323236e-01\n",
                        "  7.67999145e-01  1.58382984e+00 -4.94555120e-01  2.09477863e+00\n",
                        " -1.62478914e+00  1.70133905e+00 -9.96966643e-01 -1.95608489e+00\n",
                        " -9.89768430e-01 -1.38791564e-02 -7.80343394e-01  1.52050460e+00\n",
                        "  2.52862415e+00 -1.73339864e+00  1.44561448e-01  7.20179962e-01\n",
                        "  1.11049674e-01  4.35961606e-01 -1.09911047e+00  6.05594511e-02\n",
                        " -2.18589990e-01 -1.96448638e-02 -5.87855944e-01 -1.21481072e-03\n",
                        "  3.23381877e-01  4.84286238e-01  2.06809553e+00  9.78100807e-01\n",
                        " -9.20482676e-01 -1.51868616e+00  8.66270336e-01 -2.74179450e-01\n",
                        "  6.14144893e-01 -5.88623013e-01 -1.90931900e-01 -1.74178593e+00\n",
                        "  4.52838352e-01 -9.04949592e-01 -1.26628085e+00  4.52836750e-01\n",
                        " -3.78822471e-01  6.19677969e-01  3.87531027e-01  1.65308943e+00]\n",
                        "chisquare[1.41743769 2.48267407 1.38515473 1.07674179 5.54621933 6.5711975\n",
                        " 1.26037792 2.28728628 0.57070692 2.04500861 5.84812201 2.58073557\n",
                        " 2.00668332 6.33931165 0.8513612  2.57941452 4.19451838 0.57780332\n",
                        " 0.51317388 2.44759121 3.5688382  5.63271741 0.68858828 0.29069701\n",
                        " 7.71199748 2.04009195 2.308488   1.96594649 3.86461434 1.04298496\n",
                        " 3.20173964 0.56916627 2.5485491  0.53532    8.97943095 0.29516198\n",
                        " 2.87230516 8.47244418 0.54230432 1.65206593 0.33160378 3.31158244\n",
                        " 0.51263835 6.43240368 2.94087832 2.93548527 4.65346034 1.17117933\n",
                        " 0.47508202 0.87168947 0.34478549 8.27479262 4.90642353 5.95937663\n",
                        " 1.06487885 6.53212587 1.68925466 2.78324717 6.81893552 3.69268391\n",
                        " 3.58203643 2.44394829 0.45779084 2.99335965 1.98816263 0.99713207\n",
                        " 2.90485177 0.27596924 2.04844759 3.1499388  4.30463105 1.4159737\n",
                        " 1.84974895 2.27667876 3.7396484  1.18452301 1.65691507 5.34544314\n",
                        " 1.9554188  3.51683372 3.06515607 0.19273557 2.89791311 1.69709329\n",
                        " 2.96659215 1.80986642 2.82972685 0.35851612 3.80142862 4.22892796\n",
                        " 1.83737535 1.16880578 0.33905066 5.66856853 0.35096873 2.31331524\n",
                        " 2.44173155 1.49346323 1.11466845 2.37292764]\n"
                    ]
                }
            ],
            "source": [
                "import numpy as np \n",
                "import pandas as pd \n",
                "normal = np.random.normal(size = 100)\n",
                "chisquare = np.random.chisquare(3, size = 100)\n",
                "print(f\"normal{normal}\")\n",
                "print(f\"chisquare{chisquare}\")\n",
                "\n",
                "\n"
            ]
        },
        {
            "cell_type": "code",
            "execution_count": 6,
            "id": "d31980bc",
            "metadata": {},
            "outputs": [
                {
                    "name": "stdout",
                    "output_type": "stream",
                    "text": [
                        "normal mean-0.0317519690319752\n",
                        "chisquare2.681037619989377\n"
                    ]
                }
            ],
            "source": [
                "#mean(media)\n",
                "import statistics as stats\n",
                "mean_normal = stats.mean(normal)\n",
                "mean_chisquare = stats.mean(chisquare)\n",
                "print(f\"normal mean {mean_normal}\")\n",
                "print(f\"chisquare {mean_chisquare}\")"
            ]
        },
        {
            "cell_type": "code",
            "execution_count": 8,
            "id": "d77f39e8",
            "metadata": {},
            "outputs": [
                {
                    "name": "stdout",
                    "output_type": "stream",
                    "text": [
                        "mediana normal -0.10935802862159358\n",
                        "mediana chisquare 2.2978871401334287\n"
                    ]
                }
            ],
            "source": [
                "#median(mediana)\n",
                "median_normal = stats.median(normal)\n",
                "median_chisquare = stats.median(chisquare)\n",
                "print(f\"mediana normal {median_normal}\")\n",
                "print(f\"mediana chisquare {median_chisquare}\")"
            ]
        },
        {
            "cell_type": "code",
            "execution_count": 17,
            "id": "71c8787a",
            "metadata": {},
            "outputs": [
                {
                    "name": "stdout",
                    "output_type": "stream",
                    "text": [
                        "moda normal 0.012098328250468436\n",
                        "moda chisquare 1.4174376856411606\n"
                    ]
                }
            ],
            "source": [
                "#mode(moda)\n",
                "mode_normal = stats.mode(normal)\n",
                "mode_chisquare = stats.mode(chisquare)\n",
                "print(f\"moda normal {mode_normal}\")\n",
                "print(f\"moda chisquare {mode_chisquare}\")"
            ]
        },
        {
            "cell_type": "code",
            "execution_count": 18,
            "id": "9e5712fb",
            "metadata": {},
            "outputs": [
                {
                    "name": "stdout",
                    "output_type": "stream",
                    "text": [
                        "normal5.088633009238983\n",
                        "chisquare2.3358885804197005\n"
                    ]
                }
            ],
            "source": [
                "#Measures of dispersion(medidas de dispeecion)\n",
                "#range\n",
                "range_normal = max(normal)- min(normal)\n",
                "range_chisquare = max(normal)- min(chisquare)\n",
                "print(f\"normal{range_normal}\")\n",
                "print(f\"chisquare{range_chisquare}\")\n"
            ]
        },
        {
            "cell_type": "code",
            "execution_count": 19,
            "id": "19e488a1",
            "metadata": {},
            "outputs": [
                {
                    "name": "stdout",
                    "output_type": "stream",
                    "text": [
                        "Normal Varianza 1.1286037562538638 and 1.0623576404647654\n",
                        "Chi Varianza 4.287390767135021 and 2.070601547168122\n"
                    ]
                }
            ],
            "source": [
                "#Variance and standard deviation(Varianza y desviación típica)\n",
                "var_normal = stats.variance(normal)\n",
                "var_chisquare = stats.variance(chisquare)\n",
                "std_normal = stats.stdev(normal)\n",
                "std_chisqure = stats.stdev(chisquare)\n",
                "print(f\"Normal Varianza {var_normal} and {std_normal}\")\n",
                "print(f\"Chi Varianza {var_chisquare} and {std_chisqure}\")\n",
                "\n"
            ]
        },
        {
            "cell_type": "code",
            "execution_count": null,
            "id": "ad76315c",
            "metadata": {},
            "outputs": [],
            "source": [
                "#### Shape measures(medidas de forma )\n",
                "\n",
                "##### Skewness(asimetria)\n",
                "\n"
            ]
        },
        {
            "cell_type": "markdown",
            "id": "46c70c3d",
            "metadata": {},
            "source": [
                "### Exercise 2\n",
                "\n",
                "Write a Python program to calculate the standard deviation of the following data:\n",
                "\n",
                "```py\n",
                "data = [4, 2, 5, 8, 6]\n",
                "```"
            ]
        },
        {
            "cell_type": "code",
            "execution_count": 2,
            "id": "ab065ae6",
            "metadata": {},
            "outputs": [
                {
                    "name": "stdout",
                    "output_type": "stream",
                    "text": [
                        "2.0\n"
                    ]
                }
            ],
            "source": [
                "import numpy as np \n",
                "data = [4, 2, 5, 8, 6]\n",
                "standard_deviation = np.std(data)\n",
                "print(standard_deviation)\n"
            ]
        }
    ],
    "metadata": {
        "interpreter": {
            "hash": "9248718ffe6ce6938b217e69dbcc175ea21f4c6b28a317e96c05334edae734bb"
        },
        "kernelspec": {
            "display_name": "Python 3.9.12 ('ML-BOOTCAMP')",
            "language": "python",
            "name": "python3"
        },
        "language_info": {
            "codemirror_mode": {
                "name": "ipython",
                "version": 3
            },
            "file_extension": ".py",
            "mimetype": "text/x-python",
            "name": "python",
            "nbconvert_exporter": "python",
            "pygments_lexer": "ipython3",
            "version": "3.12.4"
        }
    },
    "nbformat": 4,
    "nbformat_minor": 5
}
